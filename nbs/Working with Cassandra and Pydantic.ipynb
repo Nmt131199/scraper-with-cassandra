{
 "cells": [
  {
   "cell_type": "code",
   "execution_count": 1,
   "id": "72b16caf",
   "metadata": {},
   "outputs": [
    {
     "name": "stdout",
     "output_type": "stream",
     "text": [
      "/home/cyrilng/cassandra-scrape/scraper_app\n"
     ]
    }
   ],
   "source": [
    "cd /home/cyrilng/cassandra-scrape/scraper_app"
   ]
  },
  {
   "cell_type": "code",
   "execution_count": 19,
   "id": "d6c0ab0a",
   "metadata": {},
   "outputs": [],
   "source": [
    "import uuid\n",
    "from app import db, crud, models, schema"
   ]
  },
  {
   "cell_type": "code",
   "execution_count": 3,
   "id": "f55457eb",
   "metadata": {},
   "outputs": [],
   "source": [
    "session = db.get_session()"
   ]
  },
  {
   "cell_type": "code",
   "execution_count": 13,
   "id": "7694d199",
   "metadata": {},
   "outputs": [],
   "source": [
    "data = {\"asin\": \"TESTING123\", \"title\": \"MArk LA\", \"abc123\": \"nothing\"}"
   ]
  },
  {
   "cell_type": "code",
   "execution_count": 8,
   "id": "a2a1e361",
   "metadata": {},
   "outputs": [],
   "source": [
    "from pydantic import BaseModel"
   ]
  },
  {
   "cell_type": "code",
   "execution_count": 14,
   "id": "d17e43d4",
   "metadata": {},
   "outputs": [],
   "source": [
    "class ProductBaseModel(BaseModel):\n",
    "    asin: str\n",
    "    title: str"
   ]
  },
  {
   "cell_type": "code",
   "execution_count": 15,
   "id": "e29028a8",
   "metadata": {},
   "outputs": [
    {
     "data": {
      "text/plain": [
       "{'asin': 'TESTING123', 'title': 'MArk LA'}"
      ]
     },
     "execution_count": 15,
     "metadata": {},
     "output_type": "execute_result"
    }
   ],
   "source": [
    "product = ProductBaseModel(**data)\n",
    "product.dict()"
   ]
  },
  {
   "cell_type": "code",
   "execution_count": 16,
   "id": "262ea1d9",
   "metadata": {},
   "outputs": [
    {
     "data": {
      "text/plain": [
       "(Product(asin='TESTING123', title='MArk LA', price_str=None),\n",
       " ProductScrapeEvent(uuid=UUID('8c413fa2-bb7d-11ed-b28f-27be7ca621a0'), asin='TESTING123', title='MArk LA', price_str=None))"
      ]
     },
     "execution_count": 16,
     "metadata": {},
     "output_type": "execute_result"
    }
   ],
   "source": [
    "crud.add_scrape_event(product.dict(), fresh=True)"
   ]
  },
  {
   "cell_type": "code",
   "execution_count": 20,
   "id": "93bd41cf",
   "metadata": {},
   "outputs": [],
   "source": [
    "from pydantic import ValidationError\n",
    "\n",
    "data = dict(data)\n",
    "data[\"uuid\"] = uuid.uuid1()\n",
    "try:\n",
    "    schema.ProductScrapeEventSchema(**data)\n",
    "except ValidationError as e: \n",
    "    print(e.json())"
   ]
  },
  {
   "cell_type": "code",
   "execution_count": 22,
   "id": "0d8acac9",
   "metadata": {},
   "outputs": [
    {
     "name": "stdout",
     "output_type": "stream",
     "text": [
      "{'asin': 'TESTING123', 'price_str': None, 'title': 'MArk LA'}\n"
     ]
    }
   ],
   "source": [
    "q = models.Product.objects().all()\n",
    "cquery = str(q._select_query())\n",
    "for row in session.execute(cquery):\n",
    "    print(row)"
   ]
  },
  {
   "cell_type": "code",
   "execution_count": null,
   "id": "5cabe088",
   "metadata": {},
   "outputs": [],
   "source": []
  }
 ],
 "metadata": {
  "kernelspec": {
   "display_name": "Python 3 (ipykernel)",
   "language": "python",
   "name": "python3"
  },
  "language_info": {
   "codemirror_mode": {
    "name": "ipython",
    "version": 3
   },
   "file_extension": ".py",
   "mimetype": "text/x-python",
   "name": "python",
   "nbconvert_exporter": "python",
   "pygments_lexer": "ipython3",
   "version": "3.10.6"
  }
 },
 "nbformat": 4,
 "nbformat_minor": 5
}
