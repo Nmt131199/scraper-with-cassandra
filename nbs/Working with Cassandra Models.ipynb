{
 "cells": [
  {
   "cell_type": "code",
   "execution_count": 1,
   "id": "72b16caf",
   "metadata": {},
   "outputs": [
    {
     "name": "stdout",
     "output_type": "stream",
     "text": [
      "/home/cyrilng/cassandra-scrape/scraper_app\n"
     ]
    }
   ],
   "source": [
    "cd /home/cyrilng/cassandra-scrape/scraper_app"
   ]
  },
  {
   "cell_type": "code",
   "execution_count": 16,
   "id": "d6c0ab0a",
   "metadata": {},
   "outputs": [],
   "source": [
    "from app import db, crud, models"
   ]
  },
  {
   "cell_type": "code",
   "execution_count": 17,
   "id": "f55457eb",
   "metadata": {},
   "outputs": [],
   "source": [
    "session = db.get_session()"
   ]
  },
  {
   "cell_type": "code",
   "execution_count": 3,
   "id": "0c1d6594",
   "metadata": {},
   "outputs": [
    {
     "data": {
      "text/plain": [
       "{'asin': 'TESTING123', 'title': 'Mark 1'}"
      ]
     },
     "execution_count": 3,
     "metadata": {},
     "output_type": "execute_result"
    }
   ],
   "source": [
    "data = models.data\n",
    "data"
   ]
  },
  {
   "cell_type": "code",
   "execution_count": 6,
   "id": "a7fa0a1a",
   "metadata": {},
   "outputs": [
    {
     "data": {
      "text/plain": [
       "(Product(asin='TESTING123', title='Mark 1', price_str=None),\n",
       " ProductScrapeEvent(uuid=UUID('7ec28d6e-bb6d-11ed-b28f-27be7ca621a0'), asin='TESTING123', title='Mark 1', price_str=None))"
      ]
     },
     "execution_count": 6,
     "metadata": {},
     "output_type": "execute_result"
    }
   ],
   "source": [
    "crud.add_scrape_event(data, fresh=True)"
   ]
  },
  {
   "cell_type": "code",
   "execution_count": 7,
   "id": "ca17ab25",
   "metadata": {},
   "outputs": [
    {
     "data": {
      "text/plain": [
       "{'asin': 'TESTING123', 'title': 'Mark 1'}"
      ]
     },
     "execution_count": 7,
     "metadata": {},
     "output_type": "execute_result"
    }
   ],
   "source": [
    "data"
   ]
  },
  {
   "cell_type": "code",
   "execution_count": 9,
   "id": "5e670ee6",
   "metadata": {},
   "outputs": [
    {
     "name": "stdout",
     "output_type": "stream",
     "text": [
      "TESTING123\n"
     ]
    }
   ],
   "source": [
    "asin = \"TESTING123\"\n",
    "for obj in models.Product.objects().all():\n",
    "    print(obj.asin)"
   ]
  },
  {
   "cell_type": "code",
   "execution_count": 11,
   "id": "7ace7e0c",
   "metadata": {},
   "outputs": [
    {
     "name": "stdout",
     "output_type": "stream",
     "text": [
      "Scrape events for TESTING123\n",
      "TESTING123 7ec28d6e-bb6d-11ed-b28f-27be7ca621a0\n",
      "TESTING123 ac8c34f8-bb6c-11ed-b28f-27be7ca621a0\n",
      "TESTING123 7d05405c-bb6d-11ed-b28f-27be7ca621a0\n",
      "TESTING123 6479ae42-bb6d-11ed-b28f-27be7ca621a0\n"
     ]
    }
   ],
   "source": [
    "if asin is not None:\n",
    "    print(f\"Scrape events for {asin}\")\n",
    "    q = models.ProductScrapeEvent.objects.filter(asin=asin):\n",
    "    for i, obj in enumerate(q):    \n",
    "        print(i, obj.asin, obj.uuid)"
   ]
  },
  {
   "cell_type": "code",
   "execution_count": 19,
   "id": "eaef9ba3",
   "metadata": {},
   "outputs": [
    {
     "name": "stdout",
     "output_type": "stream",
     "text": [
      "{'asin': 'TESTING123', 'price_str': None, 'title': 'Mark 1'}\n"
     ]
    }
   ],
   "source": [
    "q = models.Product.objects().all()\n",
    "cquery = str(q._select_query())\n",
    "for row in session.execute(cquery):\n",
    "    print(row)"
   ]
  },
  {
   "cell_type": "code",
   "execution_count": null,
   "id": "ea4ff1bc",
   "metadata": {},
   "outputs": [],
   "source": []
  }
 ],
 "metadata": {
  "kernelspec": {
   "display_name": "Python 3 (ipykernel)",
   "language": "python",
   "name": "python3"
  },
  "language_info": {
   "codemirror_mode": {
    "name": "ipython",
    "version": 3
   },
   "file_extension": ".py",
   "mimetype": "text/x-python",
   "name": "python",
   "nbconvert_exporter": "python",
   "pygments_lexer": "ipython3",
   "version": "3.10.6"
  }
 },
 "nbformat": 4,
 "nbformat_minor": 5
}
