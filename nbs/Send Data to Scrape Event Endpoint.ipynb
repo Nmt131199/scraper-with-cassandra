{
 "cells": [
  {
   "cell_type": "code",
   "execution_count": 1,
   "id": "f2d69eb5",
   "metadata": {},
   "outputs": [],
   "source": [
    "import requests"
   ]
  },
  {
   "cell_type": "code",
   "execution_count": 7,
   "id": "050263bc",
   "metadata": {},
   "outputs": [
    {
     "name": "stdout",
     "output_type": "stream",
     "text": [
      "{'asin': 'http_test', 'title': 'abc123', 'price_str': '$19.99'}\n"
     ]
    }
   ],
   "source": [
    "endpoint = \"http://127.0.0.1:8000/events/scrape\"\n",
    "asin = \"http_test\"\n",
    "r = requests.post(endpoint, json={\"asin\": asin, \"title\":\"abc123\", \"price_str\": \"$19.99\"})\n",
    "print(r.json())"
   ]
  },
  {
   "cell_type": "code",
   "execution_count": 8,
   "id": "4aa0cc71",
   "metadata": {},
   "outputs": [
    {
     "name": "stdout",
     "output_type": "stream",
     "text": [
      "{'asin': 'http_test', 'title': 'abc123', 'price_str': '$19.99', 'events': [{'asin': 'http_test', 'title': 'abc123', 'price_str': '$19.99', 'created': 1678358731.165182}, {'asin': 'http_test', 'title': 'abc123', 'price_str': None, 'created': 1678358567.922282}, {'asin': 'http_test', 'title': 'abc123', 'price_str': None, 'created': 1678358586.44618}, {'asin': 'http_test', 'title': 'abc123', 'price_str': '$19.99', 'created': 1678358638.490787}], 'events_url': '/products/http_test/events'}\n"
     ]
    }
   ],
   "source": [
    "endpoint2 = f\"http://127.0.0.1:8000/products/{asin}\"\n",
    "\n",
    "r2 = requests.get(endpoint2)\n",
    "print(r2.json())"
   ]
  },
  {
   "cell_type": "code",
   "execution_count": null,
   "id": "c1beaaa4",
   "metadata": {},
   "outputs": [],
   "source": [
    "base_url = input(\"What is your ngrok url?\")\n",
    "path = \"/events/scrape\"\n",
    "endpoint = f\"{base_url}/{path}\"\n",
    "r = requests.post(endpoint, json={\"asin\": asin, \"title\": \"abc123\", \"price_str\": \"$19.99\"})\n",
    "print(r.json())"
   ]
  }
 ],
 "metadata": {
  "kernelspec": {
   "display_name": "Python 3 (ipykernel)",
   "language": "python",
   "name": "python3"
  },
  "language_info": {
   "codemirror_mode": {
    "name": "ipython",
    "version": 3
   },
   "file_extension": ".py",
   "mimetype": "text/x-python",
   "name": "python",
   "nbconvert_exporter": "python",
   "pygments_lexer": "ipython3",
   "version": "3.10.6"
  }
 },
 "nbformat": 4,
 "nbformat_minor": 5
}
