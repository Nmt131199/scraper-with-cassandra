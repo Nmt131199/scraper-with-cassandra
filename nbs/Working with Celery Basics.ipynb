{
 "cells": [
  {
   "cell_type": "code",
   "execution_count": 2,
   "id": "f2d69eb5",
   "metadata": {},
   "outputs": [
    {
     "name": "stdout",
     "output_type": "stream",
     "text": [
      "/home/cyrilng/cassandra-scrape/scraper_app\n"
     ]
    }
   ],
   "source": [
    "cd /home/cyrilng/cassandra-scrape/scraper_app"
   ]
  },
  {
   "cell_type": "code",
   "execution_count": 4,
   "id": "41c37b8a",
   "metadata": {},
   "outputs": [],
   "source": [
    "from app.worker import random_task"
   ]
  },
  {
   "cell_type": "code",
   "execution_count": 5,
   "id": "c4c8ccda",
   "metadata": {},
   "outputs": [
    {
     "name": "stdout",
     "output_type": "stream",
     "text": [
      "Random bullshit, Go Shitt\n"
     ]
    }
   ],
   "source": [
    "random_task(\"Shitt\")"
   ]
  },
  {
   "cell_type": "code",
   "execution_count": null,
   "id": "3ff8f6bb",
   "metadata": {},
   "outputs": [],
   "source": []
  }
 ],
 "metadata": {
  "kernelspec": {
   "display_name": "Python 3 (ipykernel)",
   "language": "python",
   "name": "python3"
  },
  "language_info": {
   "codemirror_mode": {
    "name": "ipython",
    "version": 3
   },
   "file_extension": ".py",
   "mimetype": "text/x-python",
   "name": "python",
   "nbconvert_exporter": "python",
   "pygments_lexer": "ipython3",
   "version": "3.10.6"
  }
 },
 "nbformat": 4,
 "nbformat_minor": 5
}
